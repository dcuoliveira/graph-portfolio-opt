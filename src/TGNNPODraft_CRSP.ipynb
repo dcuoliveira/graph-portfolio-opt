{
 "cells": [
  {
   "cell_type": "code",
   "execution_count": 1,
   "metadata": {},
   "outputs": [],
   "source": [
    "from tqdm import tqdm\n",
    "import torch\n",
    "\n",
    "from data.CRSPLoader import CRSPLoader\n",
    "from loss_functions.SharpeLoss import SharpeLoss\n",
    "from models.TGNNPO import TGNNPO"
   ]
  },
  {
   "cell_type": "code",
   "execution_count": 2,
   "metadata": {},
   "outputs": [
    {
     "name": "stdout",
     "output_type": "stream",
     "text": [
      "Loading in saved CRSP data...\n"
     ]
    },
    {
     "name": "stderr",
     "output_type": "stream",
     "text": [
      "/Users/dylansandfelder/Documents/Work/DanielCollab/graph-portfolio-opt/src/data/CRSPLoader.py:27: DtypeWarning: Columns (13) have mixed types.Specify dtype option on import or set low_memory=False.\n",
      "  self._load_data(self.load_path)\n"
     ]
    },
    {
     "name": "stdout",
     "output_type": "stream",
     "text": [
      "Generating edge weights from raw data...\n"
     ]
    },
    {
     "name": "stderr",
     "output_type": "stream",
     "text": [
      "Loading edge files: 100%|██████████| 245/245 [00:12<00:00, 19.44it/s]\n"
     ]
    },
    {
     "name": "stdout",
     "output_type": "stream",
     "text": [
      "Generating CRSP dataset...\n",
      "Generating feature matrix...\n"
     ]
    },
    {
     "name": "stderr",
     "output_type": "stream",
     "text": [
      "100%|██████████| 5531/5531 [00:14<00:00, 368.87it/s]\n"
     ]
    },
    {
     "name": "stdout",
     "output_type": "stream",
     "text": [
      "Generating target matrix...\n"
     ]
    },
    {
     "name": "stderr",
     "output_type": "stream",
     "text": [
      "100%|██████████| 5531/5531 [00:03<00:00, 1842.55it/s]\n"
     ]
    }
   ],
   "source": [
    "device = torch.device('cpu')\n",
    "window_length = 50\n",
    "step_length = 5\n",
    "\n",
    "# load and prepare dataset\n",
    "loader = CRSPLoader(load_data=True)\n",
    "etf_tickers = ['SPY', 'XLF', 'XLB', 'XLK', 'XLV', 'XLI', 'XLU', 'XLY', 'XLP', 'XLE']\n",
    "loader._update_ticker_index(ticker_list=etf_tickers)\n",
    "dataset = loader.get_dataset(data=loader.select_tickers(tickers=etf_tickers), window_length=window_length, step_length=step_length)\n"
   ]
  },
  {
   "cell_type": "code",
   "execution_count": 3,
   "metadata": {},
   "outputs": [],
   "source": [
    "# optimization hyperparameters\n",
    "learning_rate = 0.1\n",
    "\n",
    "# how recently should we consider our model to be \"trained\" by?\n",
    "lookback_loss_mean = 200\n",
    "\n",
    "# training hyperparameters\n",
    "epochs = 15"
   ]
  },
  {
   "cell_type": "code",
   "execution_count": 4,
   "metadata": {},
   "outputs": [
    {
     "name": "stderr",
     "output_type": "stream",
     "text": [
      "Epoch: 1, sharpe (mean loss): -1.72707:   0%|          | 0/1097 [00:00<?, ?it/s]\n"
     ]
    },
    {
     "ename": "IndexError",
     "evalue": "list index out of range",
     "output_type": "error",
     "traceback": [
      "\u001b[0;31m---------------------------------------------------------------------------\u001b[0m",
      "\u001b[0;31mIndexError\u001b[0m                                Traceback (most recent call last)",
      "Cell \u001b[0;32mIn[4], line 40\u001b[0m\n\u001b[1;32m     37\u001b[0m     mean_history\u001b[39m.\u001b[39mappend(\u001b[39m-\u001b[39m\u001b[39m1\u001b[39m \u001b[39m*\u001b[39m \u001b[39msum\u001b[39m(loss_history[(\u001b[39m-\u001b[39m\u001b[39m1\u001b[39m \u001b[39m*\u001b[39m lookback_loss_mean):]) \u001b[39m/\u001b[39m \u001b[39mlen\u001b[39m(loss_history[(\u001b[39m-\u001b[39m\u001b[39m1\u001b[39m \u001b[39m*\u001b[39m lookback_loss_mean):]))\n\u001b[1;32m     38\u001b[0m pbar\u001b[39m.\u001b[39mset_description(\u001b[39m\"\u001b[39m\u001b[39mEpoch: \u001b[39m\u001b[39m%d\u001b[39;00m\u001b[39m, sharpe (mean loss): \u001b[39m\u001b[39m%1.5f\u001b[39;00m\u001b[39m\"\u001b[39m \u001b[39m%\u001b[39m (epoch \u001b[39m+\u001b[39m \u001b[39m1\u001b[39m, mean_history[\u001b[39m-\u001b[39m\u001b[39m1\u001b[39m]))\n\u001b[0;32m---> 40\u001b[0m \u001b[39mif\u001b[39;00m mean_history[\u001b[39m-\u001b[39;49m\u001b[39m2\u001b[39;49m] \u001b[39m-\u001b[39m mean_history[\u001b[39m-\u001b[39m\u001b[39m1\u001b[39m] \u001b[39m>\u001b[39m \u001b[39m0.05\u001b[39m:\n\u001b[1;32m     41\u001b[0m     \u001b[39mfor\u001b[39;00m g \u001b[39min\u001b[39;00m optimizer\u001b[39m.\u001b[39mparam_groups:\n\u001b[1;32m     42\u001b[0m         g[\u001b[39m'\u001b[39m\u001b[39mlr\u001b[39m\u001b[39m'\u001b[39m] \u001b[39m=\u001b[39m cur_max_lr\n",
      "\u001b[0;31mIndexError\u001b[0m: list index out of range"
     ]
    },
    {
     "data": {
      "image/png": "[encoded data removed]",
      "text/plain": [
       "<Figure size 640x480 with 1 Axes>"
      ]
     },
     "metadata": {},
     "output_type": "display_data"
    }
   ],
   "source": [
    "import matplotlib.pyplot as plt\n",
    "plt.xlabel('Window Index')\n",
    "plt.ylabel('Mean Sharpe Loss')\n",
    "# (1) model\n",
    "model = TGNNPO(node_features=loader.num_features, periods=window_length).to(device)\n",
    "\n",
    "# (2) loss function\n",
    "lossfn = SharpeLoss()\n",
    "\n",
    "# (3) training procedure\n",
    "model.train()\n",
    "for epoch in range(epochs): \n",
    "    # optimizer resets itself between epochs\n",
    "    cur_max_lr = learning_rate\n",
    "    optimizer = torch.optim.Adam(model.parameters(), lr=learning_rate, weight_decay=(learning_rate/10.0))\n",
    "    loss_history = []\n",
    "    mean_history = []\n",
    "    pbar = tqdm(enumerate(dataset), total=dataset.get_num_batches())\n",
    "    for steps, batch in pbar:\n",
    "        X_batch = batch.x\n",
    "        static_edge_index = batch.edge_index\n",
    "        edge_weights = batch.edge_weight\n",
    "        prices_batch = batch.y\n",
    "        \n",
    "        \n",
    "        optimizer.zero_grad()\n",
    "        \n",
    "        # predict portfolio weights\n",
    "        weights_pred = model(X_batch, static_edge_index, edge_weights)\n",
    "  \n",
    "        # sharpe ratio loss\n",
    "        loss = lossfn(prices_batch, weights_pred, ascent=True)\n",
    "        loss_history.append(loss.item())\n",
    "        if len(loss_history) < lookback_loss_mean:\n",
    "            mean_history.append(-1 * sum(loss_history) / len(loss_history))\n",
    "        else:\n",
    "            mean_history.append(-1 * sum(loss_history[(-1 * lookback_loss_mean):]) / len(loss_history[(-1 * lookback_loss_mean):]))\n",
    "        pbar.set_description(\"Epoch: %d, sharpe (mean loss): %1.5f\" % (epoch + 1, mean_history[-1]))\n",
    "        \n",
    "        if len(mean_history) > 1 and  mean_history[-2] - mean_history[-1] > 0.05:\n",
    "            for g in optimizer.param_groups:\n",
    "                g['lr'] = cur_max_lr\n",
    "\n",
    "        loss.backward()\n",
    "        optimizer.step()\n",
    "    plt.plot(list(range(dataset.get_num_batches())), mean_history, linewidth=1, label=f'Epoch {epoch+1}')\n",
    "    learning_rate = learning_rate / 1.5\n",
    "plt.legend()"
   ]
  },
  {
   "cell_type": "code",
   "execution_count": null,
   "metadata": {},
   "outputs": [],
   "source": []
  }
 ],
 "metadata": {
  "kernelspec": {
   "display_name": "gnn-popt",
   "language": "python",
   "name": "python3"
  },
  "language_info": {
   "codemirror_mode": {
    "name": "ipython",
    "version": 3
   },
   "file_extension": ".py",
   "mimetype": "text/x-python",
   "name": "python",
   "nbconvert_exporter": "python",
   "pygments_lexer": "ipython3",
   "version": "3.9.16"
  },
  "orig_nbformat": 4
 },
 "nbformat": 4,
 "nbformat_minor": 2
}
